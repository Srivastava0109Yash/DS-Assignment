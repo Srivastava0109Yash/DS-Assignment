{
 "cells": [
  {
   "cell_type": "markdown",
   "id": "751a1900",
   "metadata": {},
   "source": [
    "#### 1. Write a Python program to reverse a string without using any built-in string reversal functions.\n"
   ]
  },
  {
   "cell_type": "code",
   "execution_count": 1,
   "id": "7c4d8285",
   "metadata": {},
   "outputs": [
    {
     "data": {
      "text/plain": [
       "'dcba'"
      ]
     },
     "execution_count": 1,
     "metadata": {},
     "output_type": "execute_result"
    }
   ],
   "source": [
    "def reverse_str(str):\n",
    "    str=list(str)\n",
    "    left=0\n",
    "    right=len(str)-1\n",
    "    \n",
    "    while left<right:\n",
    "        str[left],str[right]=str[right],str[left]\n",
    "        left+=1\n",
    "        right-=1\n",
    "        \n",
    "    return \"\".join(str)\n",
    "\n",
    "str=\"abcd\"\n",
    "reverse_str(str)   "
   ]
  },
  {
   "cell_type": "markdown",
   "id": "41352c06",
   "metadata": {},
   "source": [
    "#### 2. Implement a function to check if a given string is a palindrome.\n"
   ]
  },
  {
   "cell_type": "code",
   "execution_count": 2,
   "id": "41ea6cec",
   "metadata": {},
   "outputs": [
    {
     "data": {
      "text/plain": [
       "'String is Palindrome'"
      ]
     },
     "execution_count": 2,
     "metadata": {},
     "output_type": "execute_result"
    }
   ],
   "source": [
    "def palindrome(str):\n",
    "    \n",
    "    if str==str[::-1]:\n",
    "        return 'String is Palindrome'\n",
    "    else:\n",
    "        return 'String is not Palindrome'\n",
    "    \n",
    "str=\"abba\"\n",
    "palindrome(str)"
   ]
  },
  {
   "cell_type": "markdown",
   "id": "a431ec34",
   "metadata": {},
   "source": [
    "#### 3. Write a program to find the largest element in a given list.\n"
   ]
  },
  {
   "cell_type": "code",
   "execution_count": 3,
   "id": "2564cd7a",
   "metadata": {},
   "outputs": [
    {
     "data": {
      "text/plain": [
       "355"
      ]
     },
     "execution_count": 3,
     "metadata": {},
     "output_type": "execute_result"
    }
   ],
   "source": [
    "def largest_ele(list):\n",
    "    largest=0\n",
    "    for i in list:\n",
    "        if i>largest:\n",
    "            largest=i\n",
    "    return largest\n",
    "arr=[1,2,355,51,1]\n",
    "largest_ele(arr)"
   ]
  },
  {
   "cell_type": "markdown",
   "id": "d1793cda",
   "metadata": {},
   "source": [
    "#### 4. Implement a function to count the occurrence of each element in a list.\n"
   ]
  },
  {
   "cell_type": "code",
   "execution_count": 4,
   "id": "0210f97d",
   "metadata": {},
   "outputs": [
    {
     "data": {
      "text/plain": [
       "{1: 3, 2: 2, 3: 2, 4: 2, 5: 2}"
      ]
     },
     "execution_count": 4,
     "metadata": {},
     "output_type": "execute_result"
    }
   ],
   "source": [
    "def count_occurence(list):\n",
    "    count={}\n",
    "    \n",
    "    for i in list:\n",
    "        if i in count:\n",
    "            count[i]+=1\n",
    "        else:\n",
    "            count[i]=1\n",
    "    return count\n",
    "\n",
    "list=[1,2,3,2,1,3,4,5,1,5,4]\n",
    "count_occurence(list)"
   ]
  },
  {
   "cell_type": "markdown",
   "id": "fdac2f1a",
   "metadata": {},
   "source": [
    "#### 5. Write a Python program to find the second largest number in a list.\n"
   ]
  },
  {
   "cell_type": "code",
   "execution_count": 5,
   "id": "32436f18",
   "metadata": {},
   "outputs": [
    {
     "data": {
      "text/plain": [
       "5"
      ]
     },
     "execution_count": 5,
     "metadata": {},
     "output_type": "execute_result"
    }
   ],
   "source": [
    "def second_largest(list):\n",
    "    if len(list) < 2:\n",
    "        return None\n",
    "\n",
    "    largest = float('-inf')\n",
    "    second_largest = float('-inf')\n",
    "\n",
    "    for num in list:\n",
    "        if num > largest:\n",
    "            second_largest = largest\n",
    "            largest = num\n",
    "        elif num > second_largest and num < largest:\n",
    "            second_largest = num\n",
    "\n",
    "    return second_largest\n",
    "\n",
    "arr=[1,3,2,4,5,6]\n",
    "second_largest(arr)"
   ]
  },
  {
   "cell_type": "markdown",
   "id": "5986a27d",
   "metadata": {},
   "source": [
    "#### 6. Implement a function to remove duplicate elements from a list.\n"
   ]
  },
  {
   "cell_type": "code",
   "execution_count": 14,
   "id": "474e184a",
   "metadata": {},
   "outputs": [
    {
     "name": "stdout",
     "output_type": "stream",
     "text": [
      "[1, 2, 3, 4, 5, 6]\n"
     ]
    }
   ],
   "source": [
    "def remove_duplicates(lst):\n",
    "    unique_list = []\n",
    "    for element in lst:\n",
    "        if element not in unique_list:\n",
    "            unique_list.append(element)\n",
    "    return unique_list\n",
    "\n",
    "my_list = [1, 2, 3, 2, 1, 3, 4, 5, 1, 6]\n",
    "unique_list = remove_duplicates(my_list)\n",
    "print(unique_list)"
   ]
  },
  {
   "cell_type": "markdown",
   "id": "3c5843a3",
   "metadata": {},
   "source": [
    "#### 7. Write a program to calculate the factorial of a given number.\n"
   ]
  },
  {
   "cell_type": "code",
   "execution_count": 16,
   "id": "4e2440f9",
   "metadata": {},
   "outputs": [
    {
     "data": {
      "text/plain": [
       "120"
      ]
     },
     "execution_count": 16,
     "metadata": {},
     "output_type": "execute_result"
    }
   ],
   "source": [
    "def factorial(n):\n",
    "    \n",
    "    if n==0 or n==1:\n",
    "        return n\n",
    "    else:\n",
    "        return n*factorial(n-1)\n",
    "    \n",
    "n=5\n",
    "factorial(n)"
   ]
  },
  {
   "cell_type": "markdown",
   "id": "1fdea746",
   "metadata": {},
   "source": [
    "#### 8. Implement a function to check if a given number is prime.\n"
   ]
  },
  {
   "cell_type": "code",
   "execution_count": 37,
   "id": "d0a74e21",
   "metadata": {},
   "outputs": [
    {
     "data": {
      "text/plain": [
       "'99 Not Prime'"
      ]
     },
     "execution_count": 37,
     "metadata": {},
     "output_type": "execute_result"
    }
   ],
   "source": [
    "import math\n",
    "\n",
    "def is_prime(num):\n",
    "    for i in range(2,int(math.sqrt(num))+1):\n",
    "        if num%i==0:\n",
    "            return f'{num} Not Prime'\n",
    "        \n",
    "    return f'{num} Prime'\n",
    "n=99\n",
    "is_prime(n)"
   ]
  },
  {
   "cell_type": "markdown",
   "id": "269807e2",
   "metadata": {},
   "source": [
    "#### 9. Write a Python program to sort a list of integers in ascending order.\n"
   ]
  },
  {
   "cell_type": "code",
   "execution_count": 38,
   "id": "b0e64b11",
   "metadata": {},
   "outputs": [
    {
     "name": "stdout",
     "output_type": "stream",
     "text": [
      "[1, 2, 3, 5, 6, 8, 9]\n"
     ]
    }
   ],
   "source": [
    "def quicksort(lst):\n",
    "    \n",
    "    if len(lst)<=1:\n",
    "        return lst\n",
    "    \n",
    "    else:\n",
    "        pivot=lst[0]\n",
    "        less=[x for x in lst[1:] if x<=pivot]\n",
    "        greater = [x for x in lst[1:] if x > pivot]\n",
    "        return quicksort(less) + [pivot] + quicksort(greater)\n",
    "my_list = [9, 3, 6, 1, 8, 2, 5]\n",
    "sorted_list = quicksort(my_list)\n",
    "print(sorted_list)"
   ]
  },
  {
   "cell_type": "markdown",
   "id": "082d1e53",
   "metadata": {},
   "source": [
    "#### 10. Implement a function to find the sum of all numbers in a list.\n"
   ]
  },
  {
   "cell_type": "code",
   "execution_count": 40,
   "id": "58120bab",
   "metadata": {},
   "outputs": [
    {
     "data": {
      "text/plain": [
       "16"
      ]
     },
     "execution_count": 40,
     "metadata": {},
     "output_type": "execute_result"
    }
   ],
   "source": [
    "def sum_of_lst(lst):\n",
    "    \n",
    "    summ=0\n",
    "    for i in lst:\n",
    "        summ+=i\n",
    "    return summ\n",
    "\n",
    "lst=[1,2,3,5,1,4]\n",
    "sum_of_lst(lst)"
   ]
  },
  {
   "cell_type": "markdown",
   "id": "699f3ca7",
   "metadata": {},
   "source": [
    "#### 11. Write a program to find the common elements between two lists.\n"
   ]
  },
  {
   "cell_type": "code",
   "execution_count": 46,
   "id": "1b29e461",
   "metadata": {},
   "outputs": [
    {
     "data": {
      "text/plain": [
       "[3, 4]"
      ]
     },
     "execution_count": 46,
     "metadata": {},
     "output_type": "execute_result"
    }
   ],
   "source": [
    "def common_elements(l1,l2):\n",
    "    common=[]\n",
    "    for i in l1:\n",
    "        if i in l2 and i not in common:\n",
    "            common.append(i)\n",
    "    return common\n",
    "\n",
    "l1=[1,2,3,4]\n",
    "l2=[3,4,5,6]\n",
    "common_elements(l1,l2)"
   ]
  },
  {
   "cell_type": "markdown",
   "id": "cffcdff1",
   "metadata": {},
   "source": [
    "#### 12. Implement a function to check if a given string is an anagram of another string."
   ]
  },
  {
   "cell_type": "code",
   "execution_count": 47,
   "id": "b5b48aea",
   "metadata": {},
   "outputs": [
    {
     "name": "stdout",
     "output_type": "stream",
     "text": [
      "listen and silent are anagrams.\n"
     ]
    }
   ],
   "source": [
    "def is_anagram(str1, str2):\n",
    "\n",
    "    str1 = str1.lower().replace(\" \", \"\")\n",
    "    str2 = str2.lower().replace(\" \", \"\")\n",
    "    \n",
    "    sorted_str1 = sorted(str1)\n",
    "    sorted_str2 = sorted(str2)\n",
    "    \n",
    "    if sorted_str1 == sorted_str2:\n",
    "        return True\n",
    "    else:\n",
    "        return False\n",
    "string1 = \"listen\"\n",
    "string2 = \"silent\"\n",
    "if is_anagram(string1, string2):\n",
    "    print(f\"{string1} and {string2} are anagrams.\")\n",
    "else:\n",
    "    print(f\"{string1} and {string2} are not anagrams.\")\n"
   ]
  },
  {
   "cell_type": "markdown",
   "id": "44a01650",
   "metadata": {},
   "source": [
    "#### 13. Write a Python program to generate all permutations of a given string.\n"
   ]
  },
  {
   "cell_type": "code",
   "execution_count": 48,
   "id": "31ecfab3",
   "metadata": {},
   "outputs": [
    {
     "name": "stdout",
     "output_type": "stream",
     "text": [
      "All possible strings are : \n",
      "ABC  ACB  BAC  BCA  CAB  CBA  "
     ]
    }
   ],
   "source": [
    "def permute(s, answer):\n",
    "    if (len(s) == 0):\n",
    "        print(answer, end=\"  \")\n",
    "        return\n",
    " \n",
    "    for i in range(len(s)):\n",
    "        ch = s[i]\n",
    "        left_substr = s[0:i]\n",
    "        right_substr = s[i + 1:]\n",
    "        rest = left_substr + right_substr\n",
    "        permute(rest, answer + ch)\n",
    "\n",
    "answer = \"\"\n",
    "s = \"ABC\"\n",
    " \n",
    "print(\"All possible strings are : \")\n",
    "permute(s, answer)"
   ]
  },
  {
   "cell_type": "markdown",
   "id": "733c2f51",
   "metadata": {},
   "source": [
    "#### 14. Implement a function to calculate the Fibonacci sequence up to a given number of terms.\n"
   ]
  },
  {
   "cell_type": "code",
   "execution_count": 51,
   "id": "14957d0a",
   "metadata": {},
   "outputs": [
    {
     "data": {
      "text/plain": [
       "5"
      ]
     },
     "execution_count": 51,
     "metadata": {},
     "output_type": "execute_result"
    }
   ],
   "source": [
    "def fibo(n):\n",
    "    \n",
    "    if n<=1:\n",
    "        return n\n",
    "    else:\n",
    "        return fibo(n-1)+fibo(n-2)\n",
    "n=5\n",
    "fibo(n)"
   ]
  },
  {
   "cell_type": "markdown",
   "id": "c6a0fea3",
   "metadata": {},
   "source": [
    "#### 15. Write a program to find the median of a list of numbers.\n"
   ]
  },
  {
   "cell_type": "code",
   "execution_count": 67,
   "id": "a94dfa5b",
   "metadata": {},
   "outputs": [
    {
     "data": {
      "text/plain": [
       "4.5"
      ]
     },
     "execution_count": 67,
     "metadata": {},
     "output_type": "execute_result"
    }
   ],
   "source": [
    "def median(lst):\n",
    "    \n",
    "    lst.sort()\n",
    "    mid=len(lst)//2\n",
    "    \n",
    "    if len(lst)%2!=0:\n",
    "        median=lst[mid]\n",
    "    else:\n",
    "        mid=len(lst)//2\n",
    "        median=(lst[mid-1]+lst[mid])/2\n",
    "    return median\n",
    "\n",
    "lst=[1,2,3,4,5,6,7,8]\n",
    "median(lst)"
   ]
  },
  {
   "cell_type": "markdown",
   "id": "c7815480",
   "metadata": {},
   "source": [
    "#### 16. Implement a function to check if a given list is sorted in non-decreasing order.\n"
   ]
  },
  {
   "cell_type": "code",
   "execution_count": 70,
   "id": "2ee7da19",
   "metadata": {},
   "outputs": [
    {
     "name": "stdout",
     "output_type": "stream",
     "text": [
      "[0, 1, 5, 5, 6]\n"
     ]
    }
   ],
   "source": [
    "def quicksort(lst):\n",
    "    \n",
    "    if len(lst)<=1:\n",
    "        return lst\n",
    "    \n",
    "    else:\n",
    "        pivot=lst[0]\n",
    "        less=[x for x in lst[1:] if x<=pivot]\n",
    "        greater = [x for x in lst[1:] if x > pivot]\n",
    "        return quicksort(less) + [pivot] + quicksort(greater)\n",
    "my_list = [1,0,5,6,5]\n",
    "sorted_list = quicksort(my_list)\n",
    "print(sorted_list)"
   ]
  },
  {
   "cell_type": "markdown",
   "id": "beb0b302",
   "metadata": {},
   "source": [
    "#### 17. Write a Python program to find the intersection of two lists.\n"
   ]
  },
  {
   "cell_type": "code",
   "execution_count": 71,
   "id": "656ae392",
   "metadata": {},
   "outputs": [
    {
     "data": {
      "text/plain": [
       "[6, 9]"
      ]
     },
     "execution_count": 71,
     "metadata": {},
     "output_type": "execute_result"
    }
   ],
   "source": [
    "def intersection(l1,l2):\n",
    "    common=[]\n",
    "    \n",
    "    for i in l1:\n",
    "        if i in l2 and i not in common:\n",
    "            common.append(i)\n",
    "    return common\n",
    "\n",
    "l1=[3,6,8,9]\n",
    "l2=[6,2,9,7]\n",
    "intersection(l1,l2)"
   ]
  },
  {
   "cell_type": "markdown",
   "id": "64ac6739",
   "metadata": {},
   "source": [
    "#### 18. Implement a function to find the maximum subarray sum in a given list.\n"
   ]
  },
  {
   "cell_type": "code",
   "execution_count": 72,
   "id": "5bae9d59",
   "metadata": {},
   "outputs": [
    {
     "name": "stdout",
     "output_type": "stream",
     "text": [
      "6\n"
     ]
    }
   ],
   "source": [
    "def maxSubArray(nums):\n",
    "    current_sum = max_sum = nums[0]  \n",
    "\n",
    "    for num in nums[1:]:\n",
    "        current_sum = max(num, current_sum + num)\n",
    "        max_sum = max(max_sum, current_sum) \n",
    "\n",
    "    return max_sum\n",
    "\n",
    "nums = [-2, 1, -3, 4, -1, 2, 1, -5, 4]\n",
    "result = maxSubArray(nums)\n",
    "print(result)"
   ]
  },
  {
   "cell_type": "markdown",
   "id": "b6477417",
   "metadata": {},
   "source": [
    "#### 19. Write a program to remove all vowels from a given string.\n"
   ]
  },
  {
   "cell_type": "code",
   "execution_count": 81,
   "id": "b416e4e8",
   "metadata": {},
   "outputs": [
    {
     "data": {
      "text/plain": [
       "'hll wrld'"
      ]
     },
     "execution_count": 81,
     "metadata": {},
     "output_type": "execute_result"
    }
   ],
   "source": [
    "def remove_vowels(string):\n",
    "    \n",
    "    vowels = set('aeiouAEIOU')\n",
    "    a=[i for i in string]\n",
    "    for i in a:\n",
    "        if i in vowels:\n",
    "            a.remove(i)\n",
    "    return \"\".join(a) \n",
    "    \n",
    "        \n",
    "str='hello world'\n",
    "remove_vowels(str)"
   ]
  },
  {
   "cell_type": "markdown",
   "id": "c19c6e80",
   "metadata": {},
   "source": [
    "#### 20. Implement a function to reverse the order of words in a given sentence.\n"
   ]
  },
  {
   "cell_type": "code",
   "execution_count": 91,
   "id": "8e30fddf",
   "metadata": {},
   "outputs": [
    {
     "data": {
      "text/plain": [
       "'olleh dlrow'"
      ]
     },
     "execution_count": 91,
     "metadata": {},
     "output_type": "execute_result"
    }
   ],
   "source": [
    "def reverse_order_of_words(string):\n",
    "    \n",
    "    string=[i[::-1] for i in string.split()]\n",
    "    return   \" \".join(string)\n",
    "string='hello world'\n",
    "reverse_order_of_words(string)"
   ]
  },
  {
   "cell_type": "markdown",
   "id": "4a490f1d",
   "metadata": {},
   "source": [
    "#### 21. Write a Python program to check if two strings are anagrams of each other.\n"
   ]
  },
  {
   "cell_type": "code",
   "execution_count": 1,
   "id": "3b7c14b0",
   "metadata": {},
   "outputs": [
    {
     "name": "stdout",
     "output_type": "stream",
     "text": [
      "listen and silent are anagrams.\n"
     ]
    }
   ],
   "source": [
    "def is_anagram(str1, str2):\n",
    "\n",
    "    str1 = str1.lower().replace(\" \", \"\")\n",
    "    str2 = str2.lower().replace(\" \", \"\")\n",
    "    \n",
    "    sorted_str1 = sorted(str1)\n",
    "    sorted_str2 = sorted(str2)\n",
    "    \n",
    "    if sorted_str1 == sorted_str2:\n",
    "        return True\n",
    "    else:\n",
    "        return False\n",
    "string1 = \"listen\"\n",
    "string2 = \"silent\"\n",
    "if is_anagram(string1, string2):\n",
    "    print(f\"{string1} and {string2} are anagrams.\")\n",
    "else:\n",
    "    print(f\"{string1} and {string2} are not anagrams.\")"
   ]
  },
  {
   "cell_type": "markdown",
   "id": "aabd5903",
   "metadata": {},
   "source": [
    "#### 22. Implement a function to find the first non-repeating character in a string.\n"
   ]
  },
  {
   "cell_type": "code",
   "execution_count": 35,
   "id": "ca50ef1b",
   "metadata": {},
   "outputs": [
    {
     "data": {
      "text/plain": [
       "'a'"
      ]
     },
     "execution_count": 35,
     "metadata": {},
     "output_type": "execute_result"
    }
   ],
   "source": [
    "def non_repeat(string):\n",
    "    string=[i for i in string if string.count(i)==1]\n",
    "    return str(string[0])\n",
    "\n",
    "string='mmdddbabbccddmm'\n",
    "non_repeat(string)   "
   ]
  },
  {
   "cell_type": "markdown",
   "id": "74447c21",
   "metadata": {},
   "source": [
    "#### 23. Write a program to find the prime factors of a given number.\n"
   ]
  },
  {
   "cell_type": "code",
   "execution_count": 42,
   "id": "7c41b923",
   "metadata": {},
   "outputs": [
    {
     "data": {
      "text/plain": [
       "[3, 5]"
      ]
     },
     "execution_count": 42,
     "metadata": {},
     "output_type": "execute_result"
    }
   ],
   "source": [
    "def prime_factors(n):\n",
    "    factors = []\n",
    "    for i in range(2, int(n ** 0.5) + 1):\n",
    "        while n % i == 0:\n",
    "            factors.append(i)\n",
    "            n //= i\n",
    "    if n > 1:\n",
    "        factors.append(n)\n",
    "    return factors\n",
    "n=15\n",
    "prime_factors(n)"
   ]
  },
  {
   "cell_type": "markdown",
   "id": "88f15c63",
   "metadata": {},
   "source": [
    "#### 24. Implement a function to check if a given number is a power of two.\n"
   ]
  },
  {
   "cell_type": "code",
   "execution_count": 49,
   "id": "9d66aeb0",
   "metadata": {},
   "outputs": [
    {
     "data": {
      "text/plain": [
       "True"
      ]
     },
     "execution_count": 49,
     "metadata": {},
     "output_type": "execute_result"
    }
   ],
   "source": [
    "def is_power_of_two(n):\n",
    "    return n > 0 and (n & (n - 1)) == 0\n",
    "is_power_of_two(32)"
   ]
  },
  {
   "cell_type": "markdown",
   "id": "b879cb7c",
   "metadata": {},
   "source": [
    "#### 25. Write a Python program to merge two sorted lists into a single sorted list.\n"
   ]
  },
  {
   "cell_type": "code",
   "execution_count": 61,
   "id": "39515b30",
   "metadata": {},
   "outputs": [
    {
     "data": {
      "text/plain": [
       "[1, 2, 3, 4, 5, 6, 7, 8, 9]"
      ]
     },
     "execution_count": 61,
     "metadata": {},
     "output_type": "execute_result"
    }
   ],
   "source": [
    "def merge_sorted_lists(list1, list2):\n",
    "    merged = []\n",
    "    i = 0  # pointer for list1\n",
    "    j = 0  # pointer for list2\n",
    "\n",
    "    while i < len(list1) and j < len(list2):\n",
    "        if list1[i] <= list2[j]:\n",
    "            merged.append(list1[i])\n",
    "            i += 1\n",
    "        else:\n",
    "            merged.append(list2[j])\n",
    "            j += 1\n",
    "\n",
    "    # Append remaining elements of list1 or list2\n",
    "    merged.extend(list1[i:])\n",
    "    merged.extend(list2[j:])\n",
    "\n",
    "    return merged   \n",
    "\n",
    "l1=[1,3,5,7,9]\n",
    "l2=[2,4,6,8]\n",
    "merge_sorted_lists(l1,l2)"
   ]
  },
  {
   "cell_type": "markdown",
   "id": "105a0984",
   "metadata": {},
   "source": [
    "#### 26. Implement a function to find the mode of a list of numbers.\n"
   ]
  },
  {
   "cell_type": "code",
   "execution_count": 72,
   "id": "2819b972",
   "metadata": {},
   "outputs": [
    {
     "data": {
      "text/plain": [
       "[2]"
      ]
     },
     "execution_count": 72,
     "metadata": {},
     "output_type": "execute_result"
    }
   ],
   "source": [
    "from collections import Counter\n",
    "\n",
    "def my_mode(sample):\n",
    "    c = Counter(sample)\n",
    "    return [k for k, v in c.items() if v == c.most_common(1)[0][1]]\n",
    "\n",
    "sample=[1,2,3,1,2,4,2,2,2,2,2,2,2,21,1,2,1,1]\n",
    "my_mode(sample)"
   ]
  },
  {
   "cell_type": "markdown",
   "id": "e4d4c241",
   "metadata": {},
   "source": [
    "#### 27. Write a program to find the greatest common divisor (GCD) of two numbers.\n"
   ]
  },
  {
   "cell_type": "code",
   "execution_count": 53,
   "id": "2bb93b83",
   "metadata": {},
   "outputs": [
    {
     "data": {
      "text/plain": [
       "5"
      ]
     },
     "execution_count": 53,
     "metadata": {},
     "output_type": "execute_result"
    }
   ],
   "source": [
    "def gcd(a,b):\n",
    "    while b!=0:\n",
    "        a,b=b,a%b\n",
    "    return a\n",
    "\n",
    "gcd(5,100)   "
   ]
  },
  {
   "cell_type": "markdown",
   "id": "9bf2ffb7",
   "metadata": {},
   "source": [
    "#### 28. Implement a function to calculate the square root of a given number.\n"
   ]
  },
  {
   "cell_type": "code",
   "execution_count": 76,
   "id": "7a519e3c",
   "metadata": {},
   "outputs": [
    {
     "data": {
      "text/plain": [
       "1.4142135623730951"
      ]
     },
     "execution_count": 76,
     "metadata": {},
     "output_type": "execute_result"
    }
   ],
   "source": [
    "def sqr_root(n):\n",
    "    return n**0.5\n",
    "\n",
    "sqr_root(2)"
   ]
  },
  {
   "cell_type": "markdown",
   "id": "795aec66",
   "metadata": {},
   "source": [
    "#### 29. Write a Python program to check if a given string is a valid palindrome ignoring non-alphanumeric characters"
   ]
  },
  {
   "cell_type": "code",
   "execution_count": 77,
   "id": "899d5de6",
   "metadata": {},
   "outputs": [
    {
     "name": "stdout",
     "output_type": "stream",
     "text": [
      "True\n"
     ]
    }
   ],
   "source": [
    "import re\n",
    "def palindrome(string):\n",
    "    str=re.sub(r'[^a-zA-Z0-9 ]', '', string)\n",
    "    b=str.lower().split()\n",
    "    c=\"\".join(b)\n",
    "    return c\n",
    "\n",
    "\n",
    "str=\"111a man, a plan, a canal: Panama111\"\n",
    "if palindrome(str)==palindrome(str[::-1]):\n",
    "    print(\"True\")\n",
    "else:\n",
    "    print(\"False\")"
   ]
  },
  {
   "cell_type": "markdown",
   "id": "d1107efb",
   "metadata": {},
   "source": [
    "#### 30. Implement a function to find the minimum element in a rotated sorted list."
   ]
  },
  {
   "cell_type": "code",
   "execution_count": 78,
   "id": "e79f11a9",
   "metadata": {},
   "outputs": [
    {
     "data": {
      "text/plain": [
       "1"
      ]
     },
     "execution_count": 78,
     "metadata": {},
     "output_type": "execute_result"
    }
   ],
   "source": [
    "def min_element_sorted_lst(nums):\n",
    "    left=0\n",
    "    right=len(nums)-1\n",
    "    \n",
    "    while left<right:\n",
    "        mid=(left+right)//2\n",
    "        \n",
    "        if nums[mid]>nums[right]:\n",
    "            left=mid+1\n",
    "        \n",
    "        else:\n",
    "            right=mid\n",
    "            \n",
    "    return nums[left]\n",
    "            \n",
    "nums=[3,4,5,6,2,1]\n",
    "min_element_sorted_lst(nums)"
   ]
  },
  {
   "cell_type": "markdown",
   "id": "283c7b09",
   "metadata": {},
   "source": [
    "#### 31. Write a program to find the sum of all even numbers in a list.\n"
   ]
  },
  {
   "cell_type": "code",
   "execution_count": 82,
   "id": "881736e9",
   "metadata": {},
   "outputs": [
    {
     "data": {
      "text/plain": [
       "22"
      ]
     },
     "execution_count": 82,
     "metadata": {},
     "output_type": "execute_result"
    }
   ],
   "source": [
    "def sum_even_lst(lst):\n",
    "    \n",
    "    summ_even=0\n",
    "    \n",
    "    for i in lst:\n",
    "        if i%2==0:\n",
    "            summ_even+=i\n",
    "    return summ_even\n",
    "\n",
    "l1=[1,2,4,5,6,10]\n",
    "sum_even_lst(l1)"
   ]
  },
  {
   "cell_type": "markdown",
   "id": "66b530fa",
   "metadata": {},
   "source": [
    "#### 32. Implement a function to calculate the power of a number using recursion.\n"
   ]
  },
  {
   "cell_type": "code",
   "execution_count": 84,
   "id": "8b9fa4a5",
   "metadata": {},
   "outputs": [
    {
     "data": {
      "text/plain": [
       "8"
      ]
     },
     "execution_count": 84,
     "metadata": {},
     "output_type": "execute_result"
    }
   ],
   "source": [
    "def power_num(num,power):\n",
    "    \n",
    "    if power==0:\n",
    "        return 1\n",
    "    else:\n",
    "        return num * power_num(num,power-1)\n",
    "\n",
    "num=2\n",
    "power=3\n",
    "power_num(num,power)    "
   ]
  },
  {
   "cell_type": "markdown",
   "id": "b34a27e0",
   "metadata": {},
   "source": [
    "#### 33. Write a Python program to remove duplicates from a list while preserving the order.\n"
   ]
  },
  {
   "cell_type": "code",
   "execution_count": 85,
   "id": "a51169b8",
   "metadata": {},
   "outputs": [
    {
     "name": "stdout",
     "output_type": "stream",
     "text": [
      "[1, 2, 3, 4, 5, 6, 7, 8]\n"
     ]
    }
   ],
   "source": [
    "def remove_duplicates(lst):\n",
    "    seen = set()\n",
    "    return [x for x in lst if not (x in seen or seen.add(x))]\n",
    "\n",
    "my_list = [1,2,3,2,4,3,5,6,4,7,8,7]\n",
    "result = remove_duplicates(my_list)\n",
    "print(result)"
   ]
  },
  {
   "cell_type": "markdown",
   "id": "1bd4e489",
   "metadata": {},
   "source": [
    "#### 34. Implement a function to find the longest common prefix among a list of strings.\n",
    "\n"
   ]
  },
  {
   "cell_type": "code",
   "execution_count": 87,
   "id": "8b573b96",
   "metadata": {},
   "outputs": [
    {
     "name": "stdout",
     "output_type": "stream",
     "text": [
      "fl\n"
     ]
    }
   ],
   "source": [
    "def longest_common_prefix(strs):\n",
    "    if not strs:\n",
    "        return \"\"\n",
    "\n",
    "    shortest = min(strs,key=len)\n",
    "    for i, char in enumerate(shortest):\n",
    "        for other in strs:\n",
    "            if other[i]!= char:\n",
    "                return shortest[:i]\n",
    "    return shortest\n",
    "\n",
    "strs = [\"flower\",\"flow\",\"flight\"]\n",
    "result = longest_common_prefix(strs)\n",
    "print(result)"
   ]
  },
  {
   "cell_type": "markdown",
   "id": "44433396",
   "metadata": {},
   "source": [
    "#### 35. Write a program to check if a given number is a perfect square.\n"
   ]
  },
  {
   "cell_type": "code",
   "execution_count": 93,
   "id": "100d3541",
   "metadata": {},
   "outputs": [
    {
     "data": {
      "text/plain": [
       "True"
      ]
     },
     "execution_count": 93,
     "metadata": {},
     "output_type": "execute_result"
    }
   ],
   "source": [
    "import math\n",
    "\n",
    "def is_perfect_square(n):\n",
    "    sqrt_n = int(math.sqrt(n))\n",
    "    return sqrt_n*sqrt_n == n\n",
    "\n",
    "n=144\n",
    "is_perfect_square(n)"
   ]
  },
  {
   "cell_type": "markdown",
   "id": "e5ec1dcd",
   "metadata": {},
   "source": [
    "#### 36. Implement a function to calculate the product of all elements in a list.\n"
   ]
  },
  {
   "cell_type": "code",
   "execution_count": 94,
   "id": "625a1c55",
   "metadata": {},
   "outputs": [
    {
     "data": {
      "text/plain": [
       "120"
      ]
     },
     "execution_count": 94,
     "metadata": {},
     "output_type": "execute_result"
    }
   ],
   "source": [
    "def product_lst(lst):\n",
    "    \n",
    "    prod=1\n",
    "    \n",
    "    for i in lst:\n",
    "        prod*=i\n",
    "    return prod\n",
    "\n",
    "llst=[1,2,3,4,5]\n",
    "product_lst(llst)"
   ]
  },
  {
   "cell_type": "markdown",
   "id": "3c7dc533",
   "metadata": {},
   "source": [
    "#### 37. Write a Python program to reverse the order of words in a sentence while preserving the word order"
   ]
  },
  {
   "cell_type": "code",
   "execution_count": 95,
   "id": "ca597c7b",
   "metadata": {},
   "outputs": [
    {
     "data": {
      "text/plain": [
       "'olleh dlrow'"
      ]
     },
     "execution_count": 95,
     "metadata": {},
     "output_type": "execute_result"
    }
   ],
   "source": [
    "def reverse_order_of_words(string):\n",
    "    \n",
    "    string=[i[::-1] for i in string.split()]\n",
    "    return   \" \".join(string)\n",
    "string='hello world'\n",
    "reverse_order_of_words(string)"
   ]
  },
  {
   "cell_type": "markdown",
   "id": "cf83b4c5",
   "metadata": {},
   "source": [
    "#### 38. Implement a function to find the missing number in a given list of consecutive numbers.\n"
   ]
  },
  {
   "cell_type": "code",
   "execution_count": 101,
   "id": "38989317",
   "metadata": {},
   "outputs": [
    {
     "name": "stdout",
     "output_type": "stream",
     "text": [
      "25\n"
     ]
    }
   ],
   "source": [
    "def find_missing_number(nums):\n",
    "    n = len(nums) + 1\n",
    "    expected_sum = (n * (nums[0] + nums[-1])) // 2\n",
    "    actual_sum = sum(nums)\n",
    "    missing_number = expected_sum - actual_sum\n",
    "    \n",
    "    return missing_number\n",
    "\n",
    "nums = [22,23,24,26,27,28,29]\n",
    "missing_number = find_missing_number(nums)\n",
    "print(missing_number)"
   ]
  },
  {
   "cell_type": "markdown",
   "id": "19d8da0d",
   "metadata": {},
   "source": [
    "#### 39. Write a program to find the sum of digits of a given number.\n"
   ]
  },
  {
   "cell_type": "code",
   "execution_count": 123,
   "id": "80215b0a",
   "metadata": {},
   "outputs": [
    {
     "data": {
      "text/plain": [
       "5"
      ]
     },
     "execution_count": 123,
     "metadata": {},
     "output_type": "execute_result"
    }
   ],
   "source": [
    "def sum_of_digits(number):\n",
    "    sum_digits = 0\n",
    "    number_str = \"{}\".format(n)\n",
    "\n",
    "    for i in number_str:\n",
    "        sum_digits+=int(i)\n",
    "\n",
    "    return sum_digits\n",
    "n=122\n",
    "sum_of_digits(n)"
   ]
  },
  {
   "cell_type": "markdown",
   "id": "aa976bdd",
   "metadata": {},
   "source": [
    "#### 40. Implement a function to check if a given string is a valid palindrome considering case sensitivity"
   ]
  },
  {
   "cell_type": "code",
   "execution_count": 126,
   "id": "e7461d61",
   "metadata": {},
   "outputs": [
    {
     "data": {
      "text/plain": [
       "'Palindrome'"
      ]
     },
     "execution_count": 126,
     "metadata": {},
     "output_type": "execute_result"
    }
   ],
   "source": [
    "def palindrome(string):\n",
    "    \n",
    "    if string==string[::-1]:\n",
    "        return 'Palindrome'\n",
    "    return 'Not Palindrome'\n",
    "\n",
    "str='NitiN'\n",
    "palindrome(str)"
   ]
  },
  {
   "cell_type": "markdown",
   "id": "ec3f94ab",
   "metadata": {},
   "source": [
    "#### 41. Write a Python program to find the smallest missing positive integer in a list.\n"
   ]
  },
  {
   "cell_type": "code",
   "execution_count": 127,
   "id": "e4a9955f",
   "metadata": {},
   "outputs": [
    {
     "name": "stdout",
     "output_type": "stream",
     "text": [
      "The smallest missing positive integer is: 2\n"
     ]
    }
   ],
   "source": [
    "def find_smallest_missing_positive(nums):\n",
    "    positives = [num for num in nums if num > 0]\n",
    "    if not positives:\n",
    "        return 1\n",
    "\n",
    "    for i in range(len(positives)):\n",
    "        num = abs(positives[i])\n",
    "        if num <= len(positives):\n",
    "            positives[num - 1] = -abs(positives[num - 1])\n",
    "\n",
    "    for i in range(len(positives)):\n",
    "        if positives[i] > 0:\n",
    "            return i + 1\n",
    "\n",
    "    return len(positives) + 1\n",
    "\n",
    "nums = [3,4,-1,1]\n",
    "smallest_missing = find_smallest_missing_positive(nums)\n",
    "print(\"The smallest missing positive integer is:\", smallest_missing)"
   ]
  },
  {
   "cell_type": "markdown",
   "id": "1e8de1ea",
   "metadata": {},
   "source": [
    "#### 42. Implement a function to find the longest palindrome substring in a given string.\n",
    "\n"
   ]
  },
  {
   "cell_type": "code",
   "execution_count": 129,
   "id": "80e733e0",
   "metadata": {},
   "outputs": [
    {
     "name": "stdout",
     "output_type": "stream",
     "text": [
      "Longest palindrome substring: bab\n"
     ]
    }
   ],
   "source": [
    "def longest_palindrome(s):\n",
    "    n = len(s)\n",
    "    if n < 2:\n",
    "        return s\n",
    "\n",
    "    start = 0\n",
    "    max_len = 1\n",
    "\n",
    "    def expand_around_center(left, right):\n",
    "        nonlocal start, max_len\n",
    "        while left >= 0 and right < n and s[left] == s[right]:\n",
    "            left-=1\n",
    "            right+=1\n",
    "\n",
    "        if right-left - 1 > max_len:\n",
    "            start = left+1\n",
    "            max_len = right-left-1\n",
    "\n",
    "    for i in range(n - 1):\n",
    "        expand_around_center(i, i)\n",
    "        expand_around_center(i, i + 1)\n",
    "\n",
    "    return s[start:start + max_len]\n",
    "\n",
    "\n",
    "# Example usage\n",
    "input_string = \"babad\"\n",
    "longest_palindrome_substring = longest_palindrome(input_string)\n",
    "print(\"Longest palindrome substring:\", longest_palindrome_substring)"
   ]
  },
  {
   "cell_type": "markdown",
   "id": "9b918eb3",
   "metadata": {},
   "source": [
    "#### 43. Write a program to find the number of occurrences of a given element in a list.\n"
   ]
  },
  {
   "cell_type": "code",
   "execution_count": 143,
   "id": "a2b353d6",
   "metadata": {},
   "outputs": [
    {
     "data": {
      "text/plain": [
       "5"
      ]
     },
     "execution_count": 143,
     "metadata": {},
     "output_type": "execute_result"
    }
   ],
   "source": [
    "def count_occurences(lst,ele):\n",
    "    \n",
    "    count=0\n",
    "    for i in lst:\n",
    "        if i==ele:\n",
    "            count+=1\n",
    "    return count\n",
    "\n",
    "lst=[1,1,1,3,4,5,2,6,62,1,5,6,6,15,6,15,7,1]\n",
    "ele=1\n",
    "count_occurences(lst,ele)"
   ]
  },
  {
   "cell_type": "markdown",
   "id": "a0a2094c",
   "metadata": {},
   "source": [
    "#### 44. Implement a function to check if a given number is a perfect number.\n"
   ]
  },
  {
   "cell_type": "code",
   "execution_count": 169,
   "id": "65efed8e",
   "metadata": {},
   "outputs": [
    {
     "data": {
      "text/plain": [
       "True"
      ]
     },
     "execution_count": 169,
     "metadata": {},
     "output_type": "execute_result"
    }
   ],
   "source": [
    "def perfect_number(n):\n",
    "    sum = 0\n",
    "    for x in range(1, n):\n",
    "        if n % x == 0:\n",
    "            sum += x\n",
    "    return sum == n\n",
    "\n",
    "num=28\n",
    "perfect_number(num)"
   ]
  },
  {
   "cell_type": "markdown",
   "id": "db138db3",
   "metadata": {},
   "source": [
    "#### 45. Write a Python program to remove all duplicates from a string.\n"
   ]
  },
  {
   "cell_type": "code",
   "execution_count": 172,
   "id": "9b15cfda",
   "metadata": {},
   "outputs": [
    {
     "name": "stdout",
     "output_type": "stream",
     "text": [
      "helomywrd\n"
     ]
    }
   ],
   "source": [
    "def remove_duplicates(lst):\n",
    "    unique_list = []\n",
    "    lst=list(lst)\n",
    "    for element in lst:\n",
    "        if element not in unique_list:\n",
    "            unique_list.append(element)\n",
    "    return \"\".join(unique_list)\n",
    "\n",
    "my_list = 'hellomyworld'\n",
    "unique_list = remove_duplicates(my_list)\n",
    "print(unique_list)"
   ]
  },
  {
   "cell_type": "markdown",
   "id": "99bcf592",
   "metadata": {},
   "source": [
    "#### 46. Implement a function to find the first missing positive\n"
   ]
  },
  {
   "cell_type": "code",
   "execution_count": 174,
   "id": "2487564b",
   "metadata": {},
   "outputs": [
    {
     "name": "stdout",
     "output_type": "stream",
     "text": [
      "The first missing positive integer is: 2\n"
     ]
    }
   ],
   "source": [
    "def find_first_missing_positive(nums):\n",
    "    n=len(nums)\n",
    "\n",
    "    for i in range(n):\n",
    "        while 0 < nums[i]<=n and nums[nums[i]-1] != nums[i]:\n",
    "            nums[nums[i] - 1], nums[i] = nums[i], nums[nums[i] - 1]\n",
    "    for i in range(n):\n",
    "        if nums[i] != i + 1:\n",
    "            return i + 1\n",
    "    return n + 1\n",
    "\n",
    "nums = [3, 4, -1, 1]\n",
    "first_missing_positive = find_first_missing_positive(nums)\n",
    "print(\"The first missing positive integer is:\", first_missing_positive)"
   ]
  },
  {
   "cell_type": "code",
   "execution_count": null,
   "id": "cc0fafc7",
   "metadata": {},
   "outputs": [],
   "source": []
  }
 ],
 "metadata": {
  "kernelspec": {
   "display_name": "Python 3 (ipykernel)",
   "language": "python",
   "name": "python3"
  },
  "language_info": {
   "codemirror_mode": {
    "name": "ipython",
    "version": 3
   },
   "file_extension": ".py",
   "mimetype": "text/x-python",
   "name": "python",
   "nbconvert_exporter": "python",
   "pygments_lexer": "ipython3",
   "version": "3.9.7"
  }
 },
 "nbformat": 4,
 "nbformat_minor": 5
}
